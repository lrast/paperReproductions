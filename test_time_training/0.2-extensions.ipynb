{
 "cells": [
  {
   "cell_type": "markdown",
   "id": "7fc0731e-008a-477a-9913-bb617c356e4e",
   "metadata": {},
   "source": [
    "# TTT Extensions\n",
    "\n",
    "Note that there are several differences between this implementation and the Sun et al. implementation:\n",
    "1. We don't train on the TTT objective during the initial training\n",
    "2. We freeze the model weights during initial training for angle decoding"
   ]
  },
  {
   "cell_type": "code",
   "execution_count": 1,
   "id": "a0b3c494-aad6-484f-b6b0-451f87a7cd69",
   "metadata": {},
   "outputs": [],
   "source": [
    "import matplotlib as mpl\n",
    "import matplotlib.pyplot as plt\n",
    "%matplotlib inline\n",
    "from IPython.core.pylabtools import figsize\n",
    "\n",
    "import seaborn as sns\n",
    "\n",
    "import numpy as np\n",
    "import pandas as pd\n",
    "\n",
    "import torch"
   ]
  },
  {
   "cell_type": "code",
   "execution_count": null,
   "id": "d85f36f6-ff10-4174-b4ef-0ae5f6604f74",
   "metadata": {},
   "outputs": [],
   "source": []
  }
 ],
 "metadata": {
  "kernelspec": {
   "display_name": "Python 3 (ipykernel)",
   "language": "python",
   "name": "python3"
  },
  "language_info": {
   "codemirror_mode": {
    "name": "ipython",
    "version": 3
   },
   "file_extension": ".py",
   "mimetype": "text/x-python",
   "name": "python",
   "nbconvert_exporter": "python",
   "pygments_lexer": "ipython3",
   "version": "3.12.11"
  }
 },
 "nbformat": 4,
 "nbformat_minor": 5
}
