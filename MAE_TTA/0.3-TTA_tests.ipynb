{
 "cells": [
  {
   "cell_type": "code",
   "execution_count": 1,
   "id": "786a11ba-75a8-46fb-ba00-3ef444c30798",
   "metadata": {},
   "outputs": [],
   "source": [
    "import numpy as np\n",
    "import pandas as pd\n",
    "\n",
    "import torch\n",
    "\n",
    "from data_management import fetch_dataset"
   ]
  },
  {
   "cell_type": "code",
   "execution_count": 2,
   "id": "efccad12-6ce4-417a-91d4-9ea2ebf6f844",
   "metadata": {},
   "outputs": [],
   "source": [
    "from data_management import fetch_dataset, consistent_subset"
   ]
  },
  {
   "cell_type": "code",
   "execution_count": 3,
   "id": "d12582c4-e881-4922-a9b2-5d01e132a116",
   "metadata": {},
   "outputs": [],
   "source": [
    "%run dataset_files/metadata.py"
   ]
  },
  {
   "cell_type": "code",
   "execution_count": 4,
   "id": "0be1537c-8996-4ea1-a71f-67e64959bf39",
   "metadata": {},
   "outputs": [
    {
     "data": {
      "text/plain": [
       "15"
      ]
     },
     "execution_count": 4,
     "metadata": {},
     "output_type": "execute_result"
    }
   ],
   "source": [
    "len(corruption_names_train)"
   ]
  },
  {
   "cell_type": "markdown",
   "id": "184d809b-127b-4ee2-b624-14f1e3dbec79",
   "metadata": {},
   "source": [
    "### Dataset creation"
   ]
  },
  {
   "cell_type": "markdown",
   "id": "d3eb79ac-e3bb-4c3f-a1e0-7d20abe18eb9",
   "metadata": {},
   "source": [
    "#### Time to run calculations:\n",
    "\n",
    "In hours."
   ]
  },
  {
   "cell_type": "code",
   "execution_count": 63,
   "id": "d467e978-fcf5-47d1-81b1-6bd0f2cedf2d",
   "metadata": {},
   "outputs": [
    {
     "data": {
      "text/plain": [
       "12.5"
      ]
     },
     "execution_count": 63,
     "metadata": {},
     "output_type": "execute_result"
    }
   ],
   "source": [
    "num_samples = 600\n",
    "5 * num_samples *15 / 60 / 60"
   ]
  },
  {
   "cell_type": "markdown",
   "id": "419ed978-1301-443c-bbca-9c7dce1c3295",
   "metadata": {},
   "source": [
    "Wilson 95% confidence intervals (not perfect, but just for sample size selection)"
   ]
  },
  {
   "cell_type": "code",
   "execution_count": 70,
   "id": "61b0ee57-81a2-43d1-aefd-4f8b2c6e53c3",
   "metadata": {},
   "outputs": [
    {
     "name": "stdout",
     "output_type": "stream",
     "text": [
      "0.04000759730296092\n"
     ]
    }
   ],
   "source": [
    "from scipy.stats import norm\n",
    "\n",
    "z= norm.ppf(1-0.05/2)\n",
    "p_gt = 0.5\n",
    "\n",
    "print( z * ( p_gt * (1-p_gt) /num_samples)**0.5)"
   ]
  },
  {
   "cell_type": "markdown",
   "id": "6ac26db5-eb24-4846-acc5-cc6e65b3bd3c",
   "metadata": {},
   "source": [
    "Honestly, the scaling is just so bad. For this initial reproduction, I think I'm going to go with 600 samples for the sake of speed."
   ]
  },
  {
   "cell_type": "code",
   "execution_count": 5,
   "id": "0d148719-9505-4f02-8830-3101aa2278b9",
   "metadata": {},
   "outputs": [],
   "source": [
    "for cname in corruption_names_train:\n",
    "    dataset = fetch_dataset(f'dataset_files/corrupted_{cname}_severity5_valid.npz')\n",
    "    subset = consistent_subset(dataset, count=600)\n",
    "    torch.save(subset, f'data_subsets/corrupted_{cname}.pt')"
   ]
  },
  {
   "cell_type": "markdown",
   "id": "f696518c-42b2-4375-9cae-86783d2e5f40",
   "metadata": {},
   "source": [
    "## Run adaptation:"
   ]
  },
  {
   "cell_type": "code",
   "execution_count": 4,
   "id": "30fb6629-4295-4a9e-899d-2b83a7f97a95",
   "metadata": {},
   "outputs": [],
   "source": [
    "dataset = torch.load(f'data_subsets/corrupted_{'brightness'}.pt', weights_only=False)"
   ]
  },
  {
   "cell_type": "code",
   "execution_count": null,
   "id": "aa38f9c0-e713-4d89-8c70-0486f0ea25fb",
   "metadata": {},
   "outputs": [],
   "source": []
  },
  {
   "cell_type": "code",
   "execution_count": null,
   "id": "831ae29a-75e2-4806-8702-d1a5aa67585a",
   "metadata": {},
   "outputs": [],
   "source": []
  },
  {
   "cell_type": "code",
   "execution_count": null,
   "id": "eed8e160-bdcb-4c44-9be9-9cc76c7e18a6",
   "metadata": {},
   "outputs": [],
   "source": []
  }
 ],
 "metadata": {
  "kernelspec": {
   "display_name": "Python 3 (ipykernel)",
   "language": "python",
   "name": "python3"
  },
  "language_info": {
   "codemirror_mode": {
    "name": "ipython",
    "version": 3
   },
   "file_extension": ".py",
   "mimetype": "text/x-python",
   "name": "python",
   "nbconvert_exporter": "python",
   "pygments_lexer": "ipython3",
   "version": "3.12.11"
  }
 },
 "nbformat": 4,
 "nbformat_minor": 5
}
