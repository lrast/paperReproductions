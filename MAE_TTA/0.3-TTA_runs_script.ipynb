{
 "cells": [
  {
   "cell_type": "code",
   "execution_count": 1,
   "id": "786a11ba-75a8-46fb-ba00-3ef444c30798",
   "metadata": {},
   "outputs": [],
   "source": [
    "import numpy as np\n",
    "import pandas as pd\n",
    "\n",
    "import torch\n",
    "\n",
    "from data_management import fetch_dataset"
   ]
  },
  {
   "cell_type": "code",
   "execution_count": 2,
   "id": "efccad12-6ce4-417a-91d4-9ea2ebf6f844",
   "metadata": {},
   "outputs": [],
   "source": [
    "from data_management import fetch_dataset, consistent_subset"
   ]
  },
  {
   "cell_type": "code",
   "execution_count": 3,
   "id": "d12582c4-e881-4922-a9b2-5d01e132a116",
   "metadata": {},
   "outputs": [],
   "source": [
    "%run dataset_files/metadata.py"
   ]
  },
  {
   "cell_type": "code",
   "execution_count": 4,
   "id": "0be1537c-8996-4ea1-a71f-67e64959bf39",
   "metadata": {},
   "outputs": [
    {
     "data": {
      "text/plain": [
       "15"
      ]
     },
     "execution_count": 4,
     "metadata": {},
     "output_type": "execute_result"
    }
   ],
   "source": [
    "len(corruption_names_train)"
   ]
  },
  {
   "cell_type": "markdown",
   "id": "184d809b-127b-4ee2-b624-14f1e3dbec79",
   "metadata": {
    "jp-MarkdownHeadingCollapsed": true
   },
   "source": [
    "### Dataset creation"
   ]
  },
  {
   "cell_type": "markdown",
   "id": "d3eb79ac-e3bb-4c3f-a1e0-7d20abe18eb9",
   "metadata": {},
   "source": [
    "#### Time to run calculations:\n",
    "\n",
    "In hours."
   ]
  },
  {
   "cell_type": "code",
   "execution_count": 63,
   "id": "d467e978-fcf5-47d1-81b1-6bd0f2cedf2d",
   "metadata": {},
   "outputs": [
    {
     "data": {
      "text/plain": [
       "12.5"
      ]
     },
     "execution_count": 63,
     "metadata": {},
     "output_type": "execute_result"
    }
   ],
   "source": [
    "num_samples = 600\n",
    "5 * num_samples *15 / 60 / 60"
   ]
  },
  {
   "cell_type": "markdown",
   "id": "419ed978-1301-443c-bbca-9c7dce1c3295",
   "metadata": {},
   "source": [
    "Wilson 95% confidence intervals (not perfect, but just for sample size selection)"
   ]
  },
  {
   "cell_type": "code",
   "execution_count": 70,
   "id": "61b0ee57-81a2-43d1-aefd-4f8b2c6e53c3",
   "metadata": {},
   "outputs": [
    {
     "name": "stdout",
     "output_type": "stream",
     "text": [
      "0.04000759730296092\n"
     ]
    }
   ],
   "source": [
    "from scipy.stats import norm\n",
    "\n",
    "z= norm.ppf(1-0.05/2)\n",
    "p_gt = 0.5\n",
    "\n",
    "print( z * ( p_gt * (1-p_gt) /num_samples)**0.5)"
   ]
  },
  {
   "cell_type": "markdown",
   "id": "6ac26db5-eb24-4846-acc5-cc6e65b3bd3c",
   "metadata": {},
   "source": [
    "Honestly, the scaling is pretty bad. For this initial reproduction, I think I'm going to go with 600 samples for the sake of speed."
   ]
  },
  {
   "cell_type": "code",
   "execution_count": 5,
   "id": "0d148719-9505-4f02-8830-3101aa2278b9",
   "metadata": {},
   "outputs": [],
   "source": [
    "for cname in corruption_names_train:\n",
    "    dataset = fetch_dataset(f'dataset_files/corrupted_{cname}_severity5_valid.npz')\n",
    "    subset = consistent_subset(dataset, count=600)\n",
    "    torch.save(subset, f'data_subsets/corrupted_{cname}.pt')"
   ]
  },
  {
   "cell_type": "markdown",
   "id": "f696518c-42b2-4375-9cae-86783d2e5f40",
   "metadata": {},
   "source": [
    "## Run adaptation:"
   ]
  },
  {
   "cell_type": "code",
   "execution_count": 5,
   "id": "4b53ea51-c611-46a5-a8bc-f65a0f0db795",
   "metadata": {},
   "outputs": [
    {
     "name": "stderr",
     "output_type": "stream",
     "text": [
      "W0917 00:02:46.206000 26994 torch/distributed/elastic/multiprocessing/redirects.py:29] NOTE: Redirects are currently not supported in Windows or MacOs.\n"
     ]
    },
    {
     "name": "stdout",
     "output_type": "stream",
     "text": [
      "import error: No module named 'triton'\n"
     ]
    }
   ],
   "source": [
    "from TTA_experiments import TTA_curve\n",
    "\n",
    "pd.DataFrame(columns=['model_layers', 'corruption']+[f'step{5*i}' for i in range(7)]\n",
    "            ).to_csv('results.csv', index=False)"
   ]
  },
  {
   "cell_type": "code",
   "execution_count": 6,
   "id": "aa38f9c0-e713-4d89-8c70-0486f0ea25fb",
   "metadata": {
    "scrolled": true
   },
   "outputs": [],
   "source": [
    "for cname in corruption_names_train:\n",
    "    data = torch.load(f'data_subsets/corrupted_{cname}.pt', weights_only=False)\n",
    "    results = TTA_curve(2, data, device='mps:0')\n",
    "    results_dict = {f'step{5*i}': results[i] for i in range(7)}\n",
    "    row_dict = {'model_layers': 2, 'corruption': cname, **results_dict}\n",
    "    \n",
    "    pd.DataFrame([row_dict]).to_csv('results.csv', mode='a', header=False, index=False)"
   ]
  },
  {
   "cell_type": "code",
   "execution_count": 7,
   "id": "831ae29a-75e2-4806-8702-d1a5aa67585a",
   "metadata": {},
   "outputs": [
    {
     "data": {
      "text/html": [
       "<div>\n",
       "<style scoped>\n",
       "    .dataframe tbody tr th:only-of-type {\n",
       "        vertical-align: middle;\n",
       "    }\n",
       "\n",
       "    .dataframe tbody tr th {\n",
       "        vertical-align: top;\n",
       "    }\n",
       "\n",
       "    .dataframe thead th {\n",
       "        text-align: right;\n",
       "    }\n",
       "</style>\n",
       "<table border=\"1\" class=\"dataframe\">\n",
       "  <thead>\n",
       "    <tr style=\"text-align: right;\">\n",
       "      <th></th>\n",
       "      <th>model_layers</th>\n",
       "      <th>corruption</th>\n",
       "      <th>step0</th>\n",
       "      <th>step5</th>\n",
       "      <th>step10</th>\n",
       "      <th>step15</th>\n",
       "      <th>step20</th>\n",
       "      <th>step25</th>\n",
       "      <th>step30</th>\n",
       "    </tr>\n",
       "  </thead>\n",
       "  <tbody>\n",
       "    <tr>\n",
       "      <th>0</th>\n",
       "      <td>2</td>\n",
       "      <td>gaussian_noise</td>\n",
       "      <td>0.000000</td>\n",
       "      <td>0.000000</td>\n",
       "      <td>0.000000</td>\n",
       "      <td>0.000000</td>\n",
       "      <td>0.000000</td>\n",
       "      <td>0.000000</td>\n",
       "      <td>0.000000</td>\n",
       "    </tr>\n",
       "    <tr>\n",
       "      <th>1</th>\n",
       "      <td>2</td>\n",
       "      <td>shot_noise</td>\n",
       "      <td>0.000000</td>\n",
       "      <td>0.000000</td>\n",
       "      <td>0.000000</td>\n",
       "      <td>0.000000</td>\n",
       "      <td>0.000000</td>\n",
       "      <td>0.000000</td>\n",
       "      <td>0.000000</td>\n",
       "    </tr>\n",
       "    <tr>\n",
       "      <th>2</th>\n",
       "      <td>2</td>\n",
       "      <td>impulse_noise</td>\n",
       "      <td>0.000000</td>\n",
       "      <td>0.000000</td>\n",
       "      <td>0.000000</td>\n",
       "      <td>0.000000</td>\n",
       "      <td>0.000000</td>\n",
       "      <td>0.000000</td>\n",
       "      <td>0.000000</td>\n",
       "    </tr>\n",
       "    <tr>\n",
       "      <th>3</th>\n",
       "      <td>2</td>\n",
       "      <td>defocus_blur</td>\n",
       "      <td>0.003333</td>\n",
       "      <td>0.003333</td>\n",
       "      <td>0.003333</td>\n",
       "      <td>0.003333</td>\n",
       "      <td>0.003333</td>\n",
       "      <td>0.003333</td>\n",
       "      <td>0.003333</td>\n",
       "    </tr>\n",
       "    <tr>\n",
       "      <th>4</th>\n",
       "      <td>2</td>\n",
       "      <td>glass_blur</td>\n",
       "      <td>0.003333</td>\n",
       "      <td>0.003333</td>\n",
       "      <td>0.003333</td>\n",
       "      <td>0.003333</td>\n",
       "      <td>0.003333</td>\n",
       "      <td>0.003333</td>\n",
       "      <td>0.003333</td>\n",
       "    </tr>\n",
       "    <tr>\n",
       "      <th>5</th>\n",
       "      <td>2</td>\n",
       "      <td>motion_blur</td>\n",
       "      <td>0.003333</td>\n",
       "      <td>0.003333</td>\n",
       "      <td>0.003333</td>\n",
       "      <td>0.003333</td>\n",
       "      <td>0.003333</td>\n",
       "      <td>0.003333</td>\n",
       "      <td>0.003333</td>\n",
       "    </tr>\n",
       "    <tr>\n",
       "      <th>6</th>\n",
       "      <td>2</td>\n",
       "      <td>zoom_blur</td>\n",
       "      <td>0.003333</td>\n",
       "      <td>0.003333</td>\n",
       "      <td>0.003333</td>\n",
       "      <td>0.003333</td>\n",
       "      <td>0.003333</td>\n",
       "      <td>0.003333</td>\n",
       "      <td>0.003333</td>\n",
       "    </tr>\n",
       "    <tr>\n",
       "      <th>7</th>\n",
       "      <td>2</td>\n",
       "      <td>snow</td>\n",
       "      <td>0.000000</td>\n",
       "      <td>0.000000</td>\n",
       "      <td>0.000000</td>\n",
       "      <td>0.000000</td>\n",
       "      <td>0.000000</td>\n",
       "      <td>0.001667</td>\n",
       "      <td>0.001667</td>\n",
       "    </tr>\n",
       "    <tr>\n",
       "      <th>8</th>\n",
       "      <td>2</td>\n",
       "      <td>frost</td>\n",
       "      <td>0.000000</td>\n",
       "      <td>0.001667</td>\n",
       "      <td>0.001667</td>\n",
       "      <td>0.001667</td>\n",
       "      <td>0.001667</td>\n",
       "      <td>0.003333</td>\n",
       "      <td>0.003333</td>\n",
       "    </tr>\n",
       "    <tr>\n",
       "      <th>9</th>\n",
       "      <td>2</td>\n",
       "      <td>fog</td>\n",
       "      <td>0.000000</td>\n",
       "      <td>0.000000</td>\n",
       "      <td>0.000000</td>\n",
       "      <td>0.000000</td>\n",
       "      <td>0.000000</td>\n",
       "      <td>0.000000</td>\n",
       "      <td>0.000000</td>\n",
       "    </tr>\n",
       "    <tr>\n",
       "      <th>10</th>\n",
       "      <td>2</td>\n",
       "      <td>brightness</td>\n",
       "      <td>0.003333</td>\n",
       "      <td>0.003333</td>\n",
       "      <td>0.003333</td>\n",
       "      <td>0.003333</td>\n",
       "      <td>0.003333</td>\n",
       "      <td>0.003333</td>\n",
       "      <td>0.003333</td>\n",
       "    </tr>\n",
       "    <tr>\n",
       "      <th>11</th>\n",
       "      <td>2</td>\n",
       "      <td>contrast</td>\n",
       "      <td>0.000000</td>\n",
       "      <td>0.000000</td>\n",
       "      <td>0.000000</td>\n",
       "      <td>0.000000</td>\n",
       "      <td>0.000000</td>\n",
       "      <td>0.000000</td>\n",
       "      <td>0.000000</td>\n",
       "    </tr>\n",
       "    <tr>\n",
       "      <th>12</th>\n",
       "      <td>2</td>\n",
       "      <td>elastic_transform</td>\n",
       "      <td>0.001667</td>\n",
       "      <td>0.003333</td>\n",
       "      <td>0.003333</td>\n",
       "      <td>0.003333</td>\n",
       "      <td>0.003333</td>\n",
       "      <td>0.003333</td>\n",
       "      <td>0.003333</td>\n",
       "    </tr>\n",
       "    <tr>\n",
       "      <th>13</th>\n",
       "      <td>2</td>\n",
       "      <td>pixelate</td>\n",
       "      <td>0.000000</td>\n",
       "      <td>0.001667</td>\n",
       "      <td>0.001667</td>\n",
       "      <td>0.000000</td>\n",
       "      <td>0.000000</td>\n",
       "      <td>0.000000</td>\n",
       "      <td>0.000000</td>\n",
       "    </tr>\n",
       "    <tr>\n",
       "      <th>14</th>\n",
       "      <td>2</td>\n",
       "      <td>jpeg_compression</td>\n",
       "      <td>0.000000</td>\n",
       "      <td>0.001667</td>\n",
       "      <td>0.001667</td>\n",
       "      <td>0.001667</td>\n",
       "      <td>0.001667</td>\n",
       "      <td>0.001667</td>\n",
       "      <td>0.001667</td>\n",
       "    </tr>\n",
       "  </tbody>\n",
       "</table>\n",
       "</div>"
      ],
      "text/plain": [
       "    model_layers         corruption     step0     step5    step10    step15  \\\n",
       "0              2     gaussian_noise  0.000000  0.000000  0.000000  0.000000   \n",
       "1              2         shot_noise  0.000000  0.000000  0.000000  0.000000   \n",
       "2              2      impulse_noise  0.000000  0.000000  0.000000  0.000000   \n",
       "3              2       defocus_blur  0.003333  0.003333  0.003333  0.003333   \n",
       "4              2         glass_blur  0.003333  0.003333  0.003333  0.003333   \n",
       "5              2        motion_blur  0.003333  0.003333  0.003333  0.003333   \n",
       "6              2          zoom_blur  0.003333  0.003333  0.003333  0.003333   \n",
       "7              2               snow  0.000000  0.000000  0.000000  0.000000   \n",
       "8              2              frost  0.000000  0.001667  0.001667  0.001667   \n",
       "9              2                fog  0.000000  0.000000  0.000000  0.000000   \n",
       "10             2         brightness  0.003333  0.003333  0.003333  0.003333   \n",
       "11             2           contrast  0.000000  0.000000  0.000000  0.000000   \n",
       "12             2  elastic_transform  0.001667  0.003333  0.003333  0.003333   \n",
       "13             2           pixelate  0.000000  0.001667  0.001667  0.000000   \n",
       "14             2   jpeg_compression  0.000000  0.001667  0.001667  0.001667   \n",
       "\n",
       "      step20    step25    step30  \n",
       "0   0.000000  0.000000  0.000000  \n",
       "1   0.000000  0.000000  0.000000  \n",
       "2   0.000000  0.000000  0.000000  \n",
       "3   0.003333  0.003333  0.003333  \n",
       "4   0.003333  0.003333  0.003333  \n",
       "5   0.003333  0.003333  0.003333  \n",
       "6   0.003333  0.003333  0.003333  \n",
       "7   0.000000  0.001667  0.001667  \n",
       "8   0.001667  0.003333  0.003333  \n",
       "9   0.000000  0.000000  0.000000  \n",
       "10  0.003333  0.003333  0.003333  \n",
       "11  0.000000  0.000000  0.000000  \n",
       "12  0.003333  0.003333  0.003333  \n",
       "13  0.000000  0.000000  0.000000  \n",
       "14  0.001667  0.001667  0.001667  "
      ]
     },
     "execution_count": 7,
     "metadata": {},
     "output_type": "execute_result"
    }
   ],
   "source": [
    "pd.read_csv('results.csv')"
   ]
  },
  {
   "cell_type": "code",
   "execution_count": null,
   "id": "077494cb-3623-46c2-b763-0c0a9ace50a0",
   "metadata": {},
   "outputs": [],
   "source": []
  },
  {
   "cell_type": "code",
   "execution_count": null,
   "id": "584fe84f-e5b0-446a-a3f3-d59670db21b3",
   "metadata": {},
   "outputs": [],
   "source": []
  },
  {
   "cell_type": "code",
   "execution_count": null,
   "id": "5c3b4663-89dc-4951-8fae-a1409dc59a4a",
   "metadata": {},
   "outputs": [],
   "source": []
  }
 ],
 "metadata": {
  "kernelspec": {
   "display_name": "Python 3 (ipykernel)",
   "language": "python",
   "name": "python3"
  },
  "language_info": {
   "codemirror_mode": {
    "name": "ipython",
    "version": 3
   },
   "file_extension": ".py",
   "mimetype": "text/x-python",
   "name": "python",
   "nbconvert_exporter": "python",
   "pygments_lexer": "ipython3",
   "version": "3.12.11"
  }
 },
 "nbformat": 4,
 "nbformat_minor": 5
}
