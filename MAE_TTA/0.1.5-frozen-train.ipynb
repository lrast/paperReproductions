{
 "cells": [
  {
   "cell_type": "markdown",
   "id": "2c6c878d-8813-436b-8d0d-753eabfc6d0e",
   "metadata": {},
   "source": [
    "# Training Script"
   ]
  },
  {
   "cell_type": "code",
   "execution_count": 1,
   "id": "08b7e549-a812-4f4b-92ff-f9a23d38226e",
   "metadata": {},
   "outputs": [
    {
     "name": "stderr",
     "output_type": "stream",
     "text": [
      "W0908 16:18:10.913000 14115 torch/distributed/elastic/multiprocessing/redirects.py:29] NOTE: Redirects are currently not supported in Windows or MacOs.\n"
     ]
    },
    {
     "name": "stdout",
     "output_type": "stream",
     "text": [
      "import error: No module named 'triton'\n"
     ]
    }
   ],
   "source": [
    "import evaluate\n",
    "\n",
    "from data_management import fetch_dataset_from_hf\n",
    "from training import probing_trainer\n",
    "from model import ClassifierWithTTA\n",
    "from transformers import Trainer, TrainingArguments\n",
    "import numpy as np\n",
    "\n",
    "import wandb"
   ]
  },
  {
   "cell_type": "code",
   "execution_count": null,
   "id": "29a84ae7-f58e-4c40-a544-48245accec3e",
   "metadata": {},
   "outputs": [],
   "source": [
    "train, val = fetch_dataset_from_hf()"
   ]
  },
  {
   "cell_type": "markdown",
   "id": "1ba28a89-5a2f-43a3-b97b-2419070eb033",
   "metadata": {},
   "source": [
    "## Linear Probe"
   ]
  },
  {
   "cell_type": "code",
   "execution_count": null,
   "id": "17d609d6-9e2e-4a86-b7eb-421c81009d3c",
   "metadata": {},
   "outputs": [],
   "source": [
    "model = ClassifierWithTTA(classifier_hidden_layers=0)\n",
    "model.freeze_embedding()"
   ]
  },
  {
   "cell_type": "code",
   "execution_count": null,
   "id": "a6d7b55c-ba3e-4735-8388-7beeecb8a271",
   "metadata": {},
   "outputs": [],
   "source": [
    "trainer = probing_trainer(model, train, val, num_train_epochs=5)"
   ]
  },
  {
   "cell_type": "code",
   "execution_count": null,
   "id": "405ddfcf-0065-4576-884c-1ef0311ec171",
   "metadata": {},
   "outputs": [],
   "source": [
    "trainer.train()\n",
    "wandb.finish()"
   ]
  },
  {
   "cell_type": "markdown",
   "id": "9e8ba9fb-8901-4ddf-a21c-cb3581a4367b",
   "metadata": {},
   "source": [
    "## ViT probe - 2 layer"
   ]
  },
  {
   "cell_type": "code",
   "execution_count": null,
   "id": "823a7861-d96d-4107-ac49-af74934e6908",
   "metadata": {},
   "outputs": [],
   "source": [
    "model = ClassifierWithTTA(classifier_hidden_layers=2, classifier_kwargs={\n",
    "                              'hidden_dropout_prob': 0.3,\n",
    "                              'attention_probs_dropout_prob': 0.3\n",
    "                            }\n",
    "                         )\n",
    "model.freeze_embedding()"
   ]
  },
  {
   "cell_type": "code",
   "execution_count": null,
   "id": "dbaa0887-28e3-4fba-86d8-1c1f89e1be47",
   "metadata": {},
   "outputs": [],
   "source": [
    "trainer = probing_trainer(model, train, val, num_train_epochs=5)"
   ]
  },
  {
   "cell_type": "code",
   "execution_count": null,
   "id": "5b704d58-7e66-4ee7-84f5-5c2aee51768c",
   "metadata": {},
   "outputs": [],
   "source": [
    "trainer.train()\n",
    "wandb.finish()"
   ]
  },
  {
   "cell_type": "markdown",
   "id": "ac33ca81-637e-4ff8-8021-20a506e345a9",
   "metadata": {},
   "source": [
    "## ViT probe - 4 layer"
   ]
  },
  {
   "cell_type": "code",
   "execution_count": null,
   "id": "660fa0b1-52bc-449a-811c-30095353171d",
   "metadata": {},
   "outputs": [],
   "source": [
    "model = ClassifierWithTTA(classifier_hidden_layers=4, classifier_kwargs={\n",
    "                              'hidden_dropout_prob': 0.3,\n",
    "                              'attention_probs_dropout_prob': 0.3\n",
    "                            }\n",
    "                         )\n",
    "model.freeze_embedding()"
   ]
  },
  {
   "cell_type": "code",
   "execution_count": null,
   "id": "425b8d1f-92d0-4b63-b1f3-a9fc57085538",
   "metadata": {},
   "outputs": [],
   "source": [
    "trainer = probing_trainer(model, train, val, num_train_epochs=5)"
   ]
  },
  {
   "cell_type": "code",
   "execution_count": null,
   "id": "b53470c5-dd98-4907-98fb-e904c4a87c10",
   "metadata": {},
   "outputs": [],
   "source": [
    "trainer.train()\n",
    "wandb.finish()"
   ]
  },
  {
   "cell_type": "code",
   "execution_count": null,
   "id": "651406f1-b23f-4130-8d2c-11f7ac7c4cc2",
   "metadata": {},
   "outputs": [],
   "source": []
  }
 ],
 "metadata": {
  "kernelspec": {
   "display_name": "Python 3 (ipykernel)",
   "language": "python",
   "name": "python3"
  },
  "language_info": {
   "codemirror_mode": {
    "name": "ipython",
    "version": 3
   },
   "file_extension": ".py",
   "mimetype": "text/x-python",
   "name": "python",
   "nbconvert_exporter": "python",
   "pygments_lexer": "ipython3",
   "version": "3.12.11"
  }
 },
 "nbformat": 4,
 "nbformat_minor": 5
}
