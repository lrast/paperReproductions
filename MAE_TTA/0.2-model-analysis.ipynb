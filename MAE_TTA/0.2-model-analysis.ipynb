{
 "cells": [
  {
   "cell_type": "markdown",
   "id": "bd8c5718-69fb-4fb5-8884-743dc8eb6b08",
   "metadata": {},
   "source": [
    "# Analysis of probe models"
   ]
  },
  {
   "cell_type": "code",
   "execution_count": 1,
   "id": "9f60c05e-bd2b-435a-8a55-b01f4104f173",
   "metadata": {},
   "outputs": [],
   "source": [
    "import matplotlib as mpl\n",
    "import matplotlib.pyplot as plt\n",
    "%matplotlib inline\n",
    "from IPython.core.pylabtools import figsize\n",
    "\n",
    "import seaborn as sns\n",
    "\n",
    "import numpy as np\n",
    "import pandas as pd\n",
    "\n",
    "import statsmodels.formula.api as smf\n",
    "import torch"
   ]
  },
  {
   "cell_type": "code",
   "execution_count": 2,
   "id": "36ce79b8-699a-40e7-a122-a9281c60d56f",
   "metadata": {},
   "outputs": [
    {
     "name": "stderr",
     "output_type": "stream",
     "text": [
      "W0909 12:00:18.032000 20395 torch/distributed/elastic/multiprocessing/redirects.py:29] NOTE: Redirects are currently not supported in Windows or MacOs.\n"
     ]
    },
    {
     "name": "stdout",
     "output_type": "stream",
     "text": [
      "import error: No module named 'triton'\n"
     ]
    }
   ],
   "source": [
    "from model import ClassifierWithTTA\n",
    "from safetensors import safe_open\n",
    "\n",
    "def load_model(classifier_hidden_layers):\n",
    "    folder = {\n",
    "                0: \"linear_probe\",\n",
    "                2: \"vit2_probe\",\n",
    "                4: \"vit4_probe\"\n",
    "             }.get(classifier_hidden_layers)\n",
    "    \n",
    "    tensors = {}\n",
    "    with safe_open(f\"{folder}/checkpoint-62500/model.safetensors\", framework=\"pt\", device=\"cpu\") as f:\n",
    "        for key in f.keys():\n",
    "            tensors[key] = f.get_tensor(key)\n",
    "\n",
    "    model = ClassifierWithTTA(classifier_hidden_layers=classifier_hidden_layers)\n",
    "    model.load_state_dict(tensors)\n",
    "\n",
    "    return model"
   ]
  },
  {
   "cell_type": "code",
   "execution_count": 3,
   "id": "8d56be43-b862-42fb-98b1-863b92ff90f4",
   "metadata": {},
   "outputs": [],
   "source": [
    "linear_model = load_model(0)\n",
    "vit2_model = load_model(2)\n",
    "vit4_model = load_model(4)"
   ]
  },
  {
   "cell_type": "markdown",
   "id": "3c14b9cf-48e0-4172-9ee7-e949a8e652ed",
   "metadata": {
    "jp-MarkdownHeadingCollapsed": true
   },
   "source": [
    "#### Double check that the encoders did not train"
   ]
  },
  {
   "cell_type": "code",
   "execution_count": 7,
   "id": "49997b06-eacd-4680-90d2-2812877efa39",
   "metadata": {},
   "outputs": [],
   "source": [
    "linear_params = list(linear_model.embedding.parameters())\n",
    "vit2_params = list(vit4_model.embedding.parameters())\n",
    "vit4_params = list(vit4_model.embedding.parameters())"
   ]
  },
  {
   "cell_type": "code",
   "execution_count": 9,
   "id": "1f55002a-25eb-49db-9987-07218472a37c",
   "metadata": {},
   "outputs": [],
   "source": [
    "linTo2 = []\n",
    "linTo4 = []\n",
    "\n",
    "for i in range( len(linear_params)):\n",
    "    linTo2.append( (linear_params[i] == vit2_params[i]).all())\n",
    "    linTo4.append( (linear_params[i] == vit4_params[i]).all())\n",
    "    "
   ]
  },
  {
   "cell_type": "code",
   "execution_count": 10,
   "id": "694ea81e-4875-45fd-8c88-490c8db2ddf5",
   "metadata": {},
   "outputs": [
    {
     "data": {
      "text/plain": [
       "True"
      ]
     },
     "execution_count": 10,
     "metadata": {},
     "output_type": "execute_result"
    }
   ],
   "source": [
    "all(linTo2)"
   ]
  },
  {
   "cell_type": "code",
   "execution_count": 11,
   "id": "524172a8-5914-465b-832a-142f6a1c656b",
   "metadata": {},
   "outputs": [
    {
     "data": {
      "text/plain": [
       "True"
      ]
     },
     "execution_count": 11,
     "metadata": {},
     "output_type": "execute_result"
    }
   ],
   "source": [
    "all(linTo4)"
   ]
  },
  {
   "cell_type": "markdown",
   "id": "65c13be5-f874-4772-9363-0215e166438e",
   "metadata": {
    "jp-MarkdownHeadingCollapsed": true
   },
   "source": [
    "Looks good.\n",
    "\n",
    "## Baseline accuracy\n",
    "\n",
    "This is on the validation set, which I also used as a development set."
   ]
  },
  {
   "cell_type": "code",
   "execution_count": 7,
   "id": "94611e1f-63f4-4d11-9708-979ed009fa55",
   "metadata": {},
   "outputs": [],
   "source": [
    "from data_management import fetch_dataset_from_hf\n",
    "\n",
    "train, val = fetch_dataset_from_hf() \n"
   ]
  },
  {
   "cell_type": "code",
   "execution_count": 30,
   "id": "9bccc34c-5b53-4ee1-b0e3-d7ba0dbe839a",
   "metadata": {},
   "outputs": [],
   "source": [
    "import torchmetrics\n",
    "\n",
    "def compute_accuracy(model, data):\n",
    "    accuracy = torchmetrics.Accuracy(task=\"multiclass\", num_classes=200)\n",
    "    dl = torch.utils.data.DataLoader(data, batch_size=64)\n",
    "\n",
    "    model.to('mps')\n",
    "    \n",
    "    for batch in iter(dl):\n",
    "        preds = model.forward(batch[0].to('mps')).logits\n",
    "        accuracy.update(preds.cpu(), batch[1])\n",
    "\n",
    "    model.to('cpu')\n",
    "    return accuracy\n"
   ]
  },
  {
   "cell_type": "code",
   "execution_count": 31,
   "id": "03bceac3-41e9-4954-8a04-26c1fb8e74f7",
   "metadata": {},
   "outputs": [
    {
     "data": {
      "text/plain": [
       "tensor(0.5168)"
      ]
     },
     "execution_count": 31,
     "metadata": {},
     "output_type": "execute_result"
    }
   ],
   "source": [
    "compute_accuracy(linear_model, val).compute()"
   ]
  },
  {
   "cell_type": "code",
   "execution_count": 32,
   "id": "88913796-1049-4aba-b8d2-cfa4c4007500",
   "metadata": {},
   "outputs": [
    {
     "data": {
      "text/plain": [
       "tensor(0.7095)"
      ]
     },
     "execution_count": 32,
     "metadata": {},
     "output_type": "execute_result"
    }
   ],
   "source": [
    "compute_accuracy(vit2_model, val).compute()"
   ]
  },
  {
   "cell_type": "code",
   "execution_count": 33,
   "id": "aca11a3d-67c6-4d55-9141-a4b758000816",
   "metadata": {},
   "outputs": [
    {
     "data": {
      "text/plain": [
       "tensor(0.7030)"
      ]
     },
     "execution_count": 33,
     "metadata": {},
     "output_type": "execute_result"
    }
   ],
   "source": [
    "compute_accuracy(vit4_model, val).compute()"
   ]
  },
  {
   "cell_type": "markdown",
   "id": "89dcdafe-50e8-4f62-8709-b0f1fa28b7ff",
   "metadata": {},
   "source": [
    "These accuracies aren't great (in particular the linear probing one), but I think that they are sufficient for investigation of TTA"
   ]
  },
  {
   "cell_type": "markdown",
   "id": "381e9c62-9f19-4458-a017-16a71abfc809",
   "metadata": {},
   "source": [
    "## Accuracy on corrupted datasets:"
   ]
  },
  {
   "cell_type": "code",
   "execution_count": 2,
   "id": "382ae76f-5608-4543-ae89-690ad8ce0684",
   "metadata": {},
   "outputs": [
    {
     "name": "stderr",
     "output_type": "stream",
     "text": [
      "W0910 13:26:06.524000 1141 torch/distributed/elastic/multiprocessing/redirects.py:29] NOTE: Redirects are currently not supported in Windows or MacOs.\n"
     ]
    },
    {
     "name": "stdout",
     "output_type": "stream",
     "text": [
      "import error: No module named 'triton'\n"
     ]
    }
   ],
   "source": [
    "from model import ClassifierWithTTA\n",
    "from safetensors import safe_open\n",
    "\n",
    "def load_model(classifier_hidden_layers):\n",
    "    folder = {\n",
    "                0: \"linear_probe\",\n",
    "                2: \"vit2_probe\",\n",
    "                4: \"vit4_probe\"\n",
    "             }.get(classifier_hidden_layers)\n",
    "    \n",
    "    tensors = {}\n",
    "    with safe_open(f\"{folder}/checkpoint-62500/model.safetensors\", framework=\"pt\", device=\"cpu\") as f:\n",
    "        for key in f.keys():\n",
    "            tensors[key] = f.get_tensor(key)\n",
    "\n",
    "    model = ClassifierWithTTA(classifier_hidden_layers=classifier_hidden_layers)\n",
    "    model.load_state_dict(tensors)\n",
    "\n",
    "    return model\n",
    "\n",
    "import torchmetrics\n",
    "\n",
    "def compute_accuracy(model, data):\n",
    "    accuracy = torchmetrics.Accuracy(task=\"multiclass\", num_classes=200)\n",
    "    dl = torch.utils.data.DataLoader(data, batch_size=64)\n",
    "\n",
    "    model.to('mps')\n",
    "    \n",
    "    for batch in iter(dl):\n",
    "        preds = model.forward(batch[0].to('mps')).logits\n",
    "        accuracy.update(preds.cpu(), batch[1])\n",
    "\n",
    "    model.to('cpu')\n",
    "    return accuracy\n"
   ]
  },
  {
   "cell_type": "code",
   "execution_count": 3,
   "id": "37081df0-016f-488d-b1be-f4950d04933e",
   "metadata": {},
   "outputs": [],
   "source": [
    "from data_management import fetch_dataset\n"
   ]
  },
  {
   "cell_type": "code",
   "execution_count": 4,
   "id": "c2fec4f5-0e16-4278-8117-f7ee69f20605",
   "metadata": {},
   "outputs": [],
   "source": [
    "%run dataset_files/metadata.py\n",
    "\n",
    "all_corruptions = [None] + corruption_names_train + corruption_names_val"
   ]
  },
  {
   "cell_type": "code",
   "execution_count": 5,
   "id": "56bdbd2c-3144-47a6-88f8-75f4ddeb4fe2",
   "metadata": {
    "collapsed": true,
    "jupyter": {
     "outputs_hidden": true
    },
    "scrolled": true
   },
   "outputs": [
    {
     "name": "stdout",
     "output_type": "stream",
     "text": [
      "0 None\n",
      "0 gaussian_noise\n",
      "0 shot_noise\n",
      "0 impulse_noise\n",
      "0 defocus_blur\n",
      "0 glass_blur\n",
      "0 motion_blur\n",
      "0 zoom_blur\n",
      "0 snow\n",
      "0 frost\n",
      "0 fog\n",
      "0 brightness\n",
      "0 contrast\n",
      "0 elastic_transform\n",
      "0 pixelate\n",
      "0 jpeg_compression\n",
      "0 speckle_noise\n",
      "0 gaussian_blur\n",
      "0 spatter\n",
      "0 saturate\n",
      "2 None\n",
      "2 gaussian_noise\n",
      "2 shot_noise\n",
      "2 impulse_noise\n",
      "2 defocus_blur\n",
      "2 glass_blur\n",
      "2 motion_blur\n",
      "2 zoom_blur\n",
      "2 snow\n",
      "2 frost\n",
      "2 fog\n",
      "2 brightness\n",
      "2 contrast\n",
      "2 elastic_transform\n",
      "2 pixelate\n",
      "2 jpeg_compression\n",
      "2 speckle_noise\n",
      "2 gaussian_blur\n",
      "2 spatter\n",
      "2 saturate\n",
      "4 None\n",
      "4 gaussian_noise\n",
      "4 shot_noise\n",
      "4 impulse_noise\n",
      "4 defocus_blur\n",
      "4 glass_blur\n",
      "4 motion_blur\n",
      "4 zoom_blur\n",
      "4 snow\n",
      "4 frost\n",
      "4 fog\n",
      "4 brightness\n",
      "4 contrast\n",
      "4 elastic_transform\n",
      "4 pixelate\n",
      "4 jpeg_compression\n",
      "4 speckle_noise\n",
      "4 gaussian_blur\n",
      "4 spatter\n",
      "4 saturate\n"
     ]
    }
   ],
   "source": [
    "results = []\n",
    "for num_layers in [0,2,4]:\n",
    "    model = load_model(num_layers)\n",
    "    for corruption_name in all_corruptions:\n",
    "        if corruption_name is None:\n",
    "            fname = 'dataset_files/uncorrupted_valid.npz'\n",
    "        else:\n",
    "            fname = f'dataset_files/corrupted_{corruption_name}_severity5_valid.npz'\n",
    "    \n",
    "        data = fetch_dataset(fname)\n",
    "        acc = compute_accuracy(model, data)\n",
    "        results.append({'model_layers': num_layers, 'corruption': corruption_name, 'accuracy': acc.compute()})\n",
    "\n",
    "        del data\n",
    "        print(num_layers, corruption_name)\n",
    "    del model"
   ]
  },
  {
   "cell_type": "code",
   "execution_count": 26,
   "id": "bcfa2b76-4feb-4567-932e-6648fa20a1f6",
   "metadata": {},
   "outputs": [],
   "source": [
    "accuracy_results = pd.DataFrame(results)\n",
    "accuracy_results.accuracy = accuracy_results.accuracy.map(lambda x: x.item())\n",
    "accuracy_results = accuracy_results.fillna('None')"
   ]
  },
  {
   "cell_type": "code",
   "execution_count": 33,
   "id": "5eda7421-0a98-4e58-8359-a7443bab363e",
   "metadata": {},
   "outputs": [
    {
     "data": {
      "image/png": "[encoded data removed]",
      "text/plain": [
       "<Figure size 640x480 with 1 Axes>"
      ]
     },
     "metadata": {},
     "output_type": "display_data"
    }
   ],
   "source": [
    "plt.title('Accuracy of Probe Models')\n",
    "sns.barplot(accuracy_results, x=\"corruption\", y=\"accuracy\", hue=\"model_layers\")\n",
    "_=plt.xticks(rotation=90)"
   ]
  },
  {
   "cell_type": "markdown",
   "id": "f1e195eb-187a-4f15-a920-d0c40907a47c",
   "metadata": {},
   "source": [
    "Ok. There is a _substantial_ drop in accuracy for all models and all noise types. For the most part, the gap between linear and vit performance persists across corruptions."
   ]
  },
  {
   "cell_type": "code",
   "execution_count": 35,
   "id": "cb41b508-8f41-41bb-99ff-0c9668a93c37",
   "metadata": {},
   "outputs": [],
   "source": [
    "accuracy_results.to_csv('accuracy_probe.csv')"
   ]
  },
  {
   "cell_type": "markdown",
   "id": "5356e23e-d436-4abe-bfba-84cc718df9b6",
   "metadata": {},
   "source": [
    "### Accuracy of full trained models:"
   ]
  },
  {
   "cell_type": "code",
   "execution_count": 37,
   "id": "ee8184cb-e94a-4ea9-9628-1b4c5bf0a91e",
   "metadata": {},
   "outputs": [],
   "source": [
    "def load_model_full(classifier_hidden_layers):\n",
    "    folder = {\n",
    "                0: \"linear_full\",\n",
    "                2: \"vit2_full\",\n",
    "                4: \"vit4_full\"\n",
    "             }.get(classifier_hidden_layers)\n",
    "    \n",
    "    tensors = {}\n",
    "    with safe_open(f\"{folder}/checkpoint-37500/model.safetensors\", framework=\"pt\", device=\"cpu\") as f:\n",
    "        for key in f.keys():\n",
    "            tensors[key] = f.get_tensor(key)\n",
    "\n",
    "    model = ClassifierWithTTA(classifier_hidden_layers=classifier_hidden_layers)\n",
    "    model.load_state_dict(tensors)\n",
    "\n",
    "    return model"
   ]
  },
  {
   "cell_type": "code",
   "execution_count": 38,
   "id": "7ea2c28e-4482-4f03-ac72-0b58328d39d0",
   "metadata": {
    "collapsed": true,
    "jupyter": {
     "outputs_hidden": true
    },
    "scrolled": true
   },
   "outputs": [
    {
     "name": "stdout",
     "output_type": "stream",
     "text": [
      "0 None\n",
      "0 gaussian_noise\n",
      "0 shot_noise\n",
      "0 impulse_noise\n",
      "0 defocus_blur\n",
      "0 glass_blur\n",
      "0 motion_blur\n",
      "0 zoom_blur\n",
      "0 snow\n",
      "0 frost\n",
      "0 fog\n",
      "0 brightness\n",
      "0 contrast\n",
      "0 elastic_transform\n",
      "0 pixelate\n",
      "0 jpeg_compression\n",
      "0 speckle_noise\n",
      "0 gaussian_blur\n",
      "0 spatter\n",
      "0 saturate\n",
      "2 None\n",
      "2 gaussian_noise\n",
      "2 shot_noise\n",
      "2 impulse_noise\n",
      "2 defocus_blur\n",
      "2 glass_blur\n",
      "2 motion_blur\n",
      "2 zoom_blur\n",
      "2 snow\n",
      "2 frost\n",
      "2 fog\n",
      "2 brightness\n",
      "2 contrast\n",
      "2 elastic_transform\n",
      "2 pixelate\n",
      "2 jpeg_compression\n",
      "2 speckle_noise\n",
      "2 gaussian_blur\n",
      "2 spatter\n",
      "2 saturate\n",
      "4 None\n",
      "4 gaussian_noise\n",
      "4 shot_noise\n",
      "4 impulse_noise\n",
      "4 defocus_blur\n",
      "4 glass_blur\n",
      "4 motion_blur\n",
      "4 zoom_blur\n",
      "4 snow\n",
      "4 frost\n",
      "4 fog\n",
      "4 brightness\n",
      "4 contrast\n",
      "4 elastic_transform\n",
      "4 pixelate\n",
      "4 jpeg_compression\n",
      "4 speckle_noise\n",
      "4 gaussian_blur\n",
      "4 spatter\n",
      "4 saturate\n"
     ]
    }
   ],
   "source": [
    "results_full = []\n",
    "for num_layers in [0,2,4]:\n",
    "    model = load_model_full(num_layers)\n",
    "    for corruption_name in all_corruptions:\n",
    "        if corruption_name is None:\n",
    "            fname = 'dataset_files/uncorrupted_valid.npz'\n",
    "        else:\n",
    "            fname = f'dataset_files/corrupted_{corruption_name}_severity5_valid.npz'\n",
    "    \n",
    "        data = fetch_dataset(fname)\n",
    "        acc = compute_accuracy(model, data)\n",
    "        results_full.append({'model_layers': num_layers, 'corruption': corruption_name, 'accuracy': acc.compute()})\n",
    "\n",
    "        del data\n",
    "        print(num_layers, corruption_name)\n",
    "    del model"
   ]
  },
  {
   "cell_type": "code",
   "execution_count": 39,
   "id": "e540804b-2da4-489f-96e9-4b3a01018a11",
   "metadata": {},
   "outputs": [],
   "source": [
    "accuracy_results_full = pd.DataFrame(results_full)\n",
    "accuracy_results_full.accuracy = accuracy_results_full.accuracy.map(lambda x: x.item())\n",
    "accuracy_results_full = accuracy_results_full.fillna('None')"
   ]
  },
  {
   "cell_type": "code",
   "execution_count": 41,
   "id": "f1dbc9d4-ae95-49ac-a0e1-fe2a8dcdaaba",
   "metadata": {},
   "outputs": [
    {
     "data": {
      "image/png": "[encoded data removed]",
      "text/plain": [
       "<Figure size 640x480 with 1 Axes>"
      ]
     },
     "metadata": {},
     "output_type": "display_data"
    }
   ],
   "source": [
    "plt.title('Accuracy of Full Trained Models')\n",
    "sns.barplot(accuracy_results_full, x=\"corruption\", y=\"accuracy\", hue=\"model_layers\")\n",
    "_=plt.xticks(rotation=90)"
   ]
  },
  {
   "cell_type": "markdown",
   "id": "a58cb2fc-1293-4f0f-9684-ae81a419dc74",
   "metadata": {},
   "source": [
    "Interesting. Full model finetuning has a significantly better baseline performance on corrupted datasets. Also, the gap between linear and vit models has vanished.\n",
    "\n",
    "A priori, I could have seen arguments in either direction that improved specialization of the model to the dataset leads to better / worse performance. I'd like to double check this at some point, maybe with a different dataset."
   ]
  },
  {
   "cell_type": "code",
   "execution_count": 42,
   "id": "6a9db94c-889d-4c78-a2b4-dc87d4ea2b81",
   "metadata": {},
   "outputs": [],
   "source": [
    "accuracy_results_full.to_csv('results_data/accuracy_full.csv')"
   ]
  },
  {
   "cell_type": "markdown",
   "id": "04ff23fb-5d04-4e94-90a3-257ed92c962c",
   "metadata": {},
   "source": [
    "## Test-time adaptation"
   ]
  },
  {
   "cell_type": "code",
   "execution_count": null,
   "id": "6bd8f012-e944-4199-ac5a-7102f900ea16",
   "metadata": {},
   "outputs": [],
   "source": []
  },
  {
   "cell_type": "code",
   "execution_count": null,
   "id": "ff79a970-f1c7-44c9-8d44-99539a914bb0",
   "metadata": {},
   "outputs": [],
   "source": []
  },
  {
   "cell_type": "code",
   "execution_count": null,
   "id": "f9f401a6-987a-4603-96be-434b69a04be9",
   "metadata": {},
   "outputs": [],
   "source": []
  },
  {
   "cell_type": "code",
   "execution_count": null,
   "id": "af447703-1803-4e1d-9177-93805a0cbb5a",
   "metadata": {},
   "outputs": [],
   "source": []
  }
 ],
 "metadata": {
  "kernelspec": {
   "display_name": "Python 3 (ipykernel)",
   "language": "python",
   "name": "python3"
  },
  "language_info": {
   "codemirror_mode": {
    "name": "ipython",
    "version": 3
   },
   "file_extension": ".py",
   "mimetype": "text/x-python",
   "name": "python",
   "nbconvert_exporter": "python",
   "pygments_lexer": "ipython3",
   "version": "3.12.11"
  }
 },
 "nbformat": 4,
 "nbformat_minor": 5
}
